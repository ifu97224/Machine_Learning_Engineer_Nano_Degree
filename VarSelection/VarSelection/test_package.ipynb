{
 "cells": [
  {
   "cell_type": "markdown",
   "metadata": {},
   "source": [
    "** Code Objective:** Tests the VarSelection package  \n",
    "** Description:** Uses the 'adult' data from UCI machine learning repository to test the package  \n",
    "** Written by:** Rich Downey  \n",
    "** Last updated:**  9/21/2019"
   ]
  },
  {
   "cell_type": "code",
   "execution_count": 6,
   "metadata": {},
   "outputs": [],
   "source": [
    "import pandas as pd\n",
    "import numpy as np\n",
    "from sklearn.ensemble import RandomForestClassifier\n",
    "from sklearn import linear_model\n",
    "from sklearn.linear_model import LassoCV\n",
    "\n",
    "# Import the variable selection package\n",
    "from variable_selection import VarSelection as vs"
   ]
  },
  {
   "cell_type": "markdown",
   "metadata": {},
   "source": [
    "### Import the dataframe"
   ]
  },
  {
   "cell_type": "code",
   "execution_count": 7,
   "metadata": {},
   "outputs": [],
   "source": [
    "def import_and_prep_df():\n",
    "    \n",
    "    df = pd.read_csv(\"http://archive.ics.uci.edu/ml/machine-learning-databases/adult/adult.data\",\n",
    "            names = ['age', 'workclass', 'fnlwgt', 'education', 'education_num',\n",
    "                     'marital_status', 'occupation', 'relationship', 'race', 'sex',\n",
    "                     'capital_gain', 'capital_loss', 'hours_per_week', 'native_country','income'])\n",
    "\n",
    "    # Create the binary field for the target\n",
    "    df['income'] = df['income'].str.strip()\n",
    "    df['target'] = df['income'].apply(lambda x: 0 if x == '<=50K' else 1)\n",
    "\n",
    "    # Replace - in string values with an _, replace ? with UNKNOWN\n",
    "    for column in df.loc[:, df.dtypes == object].columns:\n",
    "        df.loc[:,column] = df[column].str.replace('-','_')\n",
    "        df.loc[:,column] = df[column].str.replace('?','UNKNOWN')\n",
    "\n",
    "    return df"
   ]
  },
  {
   "cell_type": "code",
   "execution_count": 8,
   "metadata": {},
   "outputs": [],
   "source": [
    "adult_df = import_and_prep_df()"
   ]
  },
  {
   "cell_type": "markdown",
   "metadata": {},
   "source": [
    "### Setup a variable selection object"
   ]
  },
  {
   "cell_type": "code",
   "execution_count": 9,
   "metadata": {},
   "outputs": [],
   "source": [
    "var_selection = vs.variable_selection(adult_df, 'target', k_features = 10, random_state = 1)"
   ]
  },
  {
   "cell_type": "markdown",
   "metadata": {},
   "source": [
    "### Test Squared Correlation"
   ]
  },
  {
   "cell_type": "code",
   "execution_count": 10,
   "metadata": {},
   "outputs": [
    {
     "name": "stdout",
     "output_type": "stream",
     "text": [
      "Run time: variable_selection.VarSelection.variable_selection.squared_corr ran in 59 ms\n"
     ]
    },
    {
     "data": {
      "text/html": [
       "<div>\n",
       "<style scoped>\n",
       "    .dataframe tbody tr th:only-of-type {\n",
       "        vertical-align: middle;\n",
       "    }\n",
       "\n",
       "    .dataframe tbody tr th {\n",
       "        vertical-align: top;\n",
       "    }\n",
       "\n",
       "    .dataframe thead th {\n",
       "        text-align: right;\n",
       "    }\n",
       "</style>\n",
       "<table border=\"1\" class=\"dataframe\">\n",
       "  <thead>\n",
       "    <tr style=\"text-align: right;\">\n",
       "      <th></th>\n",
       "      <th>Variable</th>\n",
       "      <th>Squared_Correlation</th>\n",
       "    </tr>\n",
       "  </thead>\n",
       "  <tbody>\n",
       "    <tr>\n",
       "      <th>1</th>\n",
       "      <td>education_num</td>\n",
       "      <td>0.112328</td>\n",
       "    </tr>\n",
       "    <tr>\n",
       "      <th>4</th>\n",
       "      <td>hours_per_week</td>\n",
       "      <td>0.052757</td>\n",
       "    </tr>\n",
       "    <tr>\n",
       "      <th>2</th>\n",
       "      <td>capital_gain</td>\n",
       "      <td>0.049876</td>\n",
       "    </tr>\n",
       "    <tr>\n",
       "      <th>3</th>\n",
       "      <td>capital_loss</td>\n",
       "      <td>0.022658</td>\n",
       "    </tr>\n",
       "    <tr>\n",
       "      <th>0</th>\n",
       "      <td>fnlwgt</td>\n",
       "      <td>0.000090</td>\n",
       "    </tr>\n",
       "  </tbody>\n",
       "</table>\n",
       "</div>"
      ],
      "text/plain": [
       "         Variable  Squared_Correlation\n",
       "1   education_num             0.112328\n",
       "4  hours_per_week             0.052757\n",
       "2    capital_gain             0.049876\n",
       "3    capital_loss             0.022658\n",
       "0          fnlwgt             0.000090"
      ]
     },
     "execution_count": 10,
     "metadata": {},
     "output_type": "execute_result"
    }
   ],
   "source": [
    "squared_corr = var_selection.squared_corr()\n",
    "squared_corr"
   ]
  },
  {
   "cell_type": "markdown",
   "metadata": {},
   "source": [
    "### Test Random Forest Importance"
   ]
  },
  {
   "cell_type": "code",
   "execution_count": 11,
   "metadata": {},
   "outputs": [
    {
     "name": "stdout",
     "output_type": "stream",
     "text": [
      "Run time: variable_selection.VarSelection.variable_selection.rf_imp_rank ran in 10.31 sec\n"
     ]
    },
    {
     "data": {
      "text/html": [
       "<div>\n",
       "<style scoped>\n",
       "    .dataframe tbody tr th:only-of-type {\n",
       "        vertical-align: middle;\n",
       "    }\n",
       "\n",
       "    .dataframe tbody tr th {\n",
       "        vertical-align: top;\n",
       "    }\n",
       "\n",
       "    .dataframe thead th {\n",
       "        text-align: right;\n",
       "    }\n",
       "</style>\n",
       "<table border=\"1\" class=\"dataframe\">\n",
       "  <thead>\n",
       "    <tr style=\"text-align: right;\">\n",
       "      <th></th>\n",
       "      <th>features</th>\n",
       "      <th>rf_importance</th>\n",
       "      <th>rf_rank</th>\n",
       "    </tr>\n",
       "  </thead>\n",
       "  <tbody>\n",
       "    <tr>\n",
       "      <th>103</th>\n",
       "      <td>income_&gt;50K</td>\n",
       "      <td>0.417687</td>\n",
       "      <td>1</td>\n",
       "    </tr>\n",
       "    <tr>\n",
       "      <th>102</th>\n",
       "      <td>income_&lt;=50K</td>\n",
       "      <td>0.361384</td>\n",
       "      <td>2</td>\n",
       "    </tr>\n",
       "    <tr>\n",
       "      <th>27</th>\n",
       "      <td>marital_status_ Married_civ_spouse</td>\n",
       "      <td>0.037083</td>\n",
       "      <td>3</td>\n",
       "    </tr>\n",
       "    <tr>\n",
       "      <th>107</th>\n",
       "      <td>capital_gain</td>\n",
       "      <td>0.033104</td>\n",
       "      <td>4</td>\n",
       "    </tr>\n",
       "    <tr>\n",
       "      <th>47</th>\n",
       "      <td>relationship_ Husband</td>\n",
       "      <td>0.023428</td>\n",
       "      <td>5</td>\n",
       "    </tr>\n",
       "    <tr>\n",
       "      <th>106</th>\n",
       "      <td>education_num</td>\n",
       "      <td>0.021661</td>\n",
       "      <td>6</td>\n",
       "    </tr>\n",
       "    <tr>\n",
       "      <th>104</th>\n",
       "      <td>age</td>\n",
       "      <td>0.013485</td>\n",
       "      <td>7</td>\n",
       "    </tr>\n",
       "    <tr>\n",
       "      <th>29</th>\n",
       "      <td>marital_status_ Never_married</td>\n",
       "      <td>0.013120</td>\n",
       "      <td>8</td>\n",
       "    </tr>\n",
       "    <tr>\n",
       "      <th>109</th>\n",
       "      <td>hours_per_week</td>\n",
       "      <td>0.009585</td>\n",
       "      <td>9</td>\n",
       "    </tr>\n",
       "    <tr>\n",
       "      <th>108</th>\n",
       "      <td>capital_loss</td>\n",
       "      <td>0.007142</td>\n",
       "      <td>10</td>\n",
       "    </tr>\n",
       "  </tbody>\n",
       "</table>\n",
       "</div>"
      ],
      "text/plain": [
       "                               features  rf_importance  rf_rank\n",
       "103                         income_>50K       0.417687        1\n",
       "102                        income_<=50K       0.361384        2\n",
       "27   marital_status_ Married_civ_spouse       0.037083        3\n",
       "107                        capital_gain       0.033104        4\n",
       "47                relationship_ Husband       0.023428        5\n",
       "106                       education_num       0.021661        6\n",
       "104                                 age       0.013485        7\n",
       "29        marital_status_ Never_married       0.013120        8\n",
       "109                      hours_per_week       0.009585        9\n",
       "108                        capital_loss       0.007142       10"
      ]
     },
     "execution_count": 11,
     "metadata": {},
     "output_type": "execute_result"
    }
   ],
   "source": [
    "forest = RandomForestClassifier(n_estimators = 500,\n",
    "                                random_state = 0,\n",
    "                                oob_score=True,\n",
    "                                n_jobs = -1)\n",
    "\n",
    "rf_importance = var_selection.rf_imp_rank(forest)\n",
    "rf_importance"
   ]
  },
  {
   "cell_type": "markdown",
   "metadata": {},
   "source": [
    "### Absolute Regression Coefficients"
   ]
  },
  {
   "cell_type": "code",
   "execution_count": 12,
   "metadata": {},
   "outputs": [
    {
     "name": "stdout",
     "output_type": "stream",
     "text": [
      "Run time: variable_selection.VarSelection.variable_selection.abs_reg_coeffs ran in 0.27 sec\n"
     ]
    },
    {
     "data": {
      "text/html": [
       "<div>\n",
       "<style scoped>\n",
       "    .dataframe tbody tr th:only-of-type {\n",
       "        vertical-align: middle;\n",
       "    }\n",
       "\n",
       "    .dataframe tbody tr th {\n",
       "        vertical-align: top;\n",
       "    }\n",
       "\n",
       "    .dataframe thead th {\n",
       "        text-align: right;\n",
       "    }\n",
       "</style>\n",
       "<table border=\"1\" class=\"dataframe\">\n",
       "  <thead>\n",
       "    <tr style=\"text-align: right;\">\n",
       "      <th></th>\n",
       "      <th>features</th>\n",
       "      <th>coeff</th>\n",
       "      <th>coeff_abs</th>\n",
       "      <th>coeff_rank</th>\n",
       "    </tr>\n",
       "  </thead>\n",
       "  <tbody>\n",
       "    <tr>\n",
       "      <th>103</th>\n",
       "      <td>age</td>\n",
       "      <td>9.274511</td>\n",
       "      <td>9.274511</td>\n",
       "      <td>1</td>\n",
       "    </tr>\n",
       "    <tr>\n",
       "      <th>102</th>\n",
       "      <td>income_&gt;50K</td>\n",
       "      <td>-8.397905</td>\n",
       "      <td>8.397905</td>\n",
       "      <td>2</td>\n",
       "    </tr>\n",
       "    <tr>\n",
       "      <th>106</th>\n",
       "      <td>capital_gain</td>\n",
       "      <td>-0.013621</td>\n",
       "      <td>0.013621</td>\n",
       "      <td>3</td>\n",
       "    </tr>\n",
       "    <tr>\n",
       "      <th>104</th>\n",
       "      <td>fnlwgt</td>\n",
       "      <td>-0.008366</td>\n",
       "      <td>0.008366</td>\n",
       "      <td>4</td>\n",
       "    </tr>\n",
       "    <tr>\n",
       "      <th>108</th>\n",
       "      <td>hours_per_week</td>\n",
       "      <td>0.000354</td>\n",
       "      <td>0.000354</td>\n",
       "      <td>5</td>\n",
       "    </tr>\n",
       "    <tr>\n",
       "      <th>107</th>\n",
       "      <td>capital_loss</td>\n",
       "      <td>0.000104</td>\n",
       "      <td>0.000104</td>\n",
       "      <td>6</td>\n",
       "    </tr>\n",
       "    <tr>\n",
       "      <th>105</th>\n",
       "      <td>education_num</td>\n",
       "      <td>-0.000002</td>\n",
       "      <td>0.000002</td>\n",
       "      <td>7</td>\n",
       "    </tr>\n",
       "    <tr>\n",
       "      <th>73</th>\n",
       "      <td>native_country_ Holand_Netherlands</td>\n",
       "      <td>0.000000</td>\n",
       "      <td>0.000000</td>\n",
       "      <td>8</td>\n",
       "    </tr>\n",
       "    <tr>\n",
       "      <th>69</th>\n",
       "      <td>native_country_ Germany</td>\n",
       "      <td>0.000000</td>\n",
       "      <td>0.000000</td>\n",
       "      <td>9</td>\n",
       "    </tr>\n",
       "    <tr>\n",
       "      <th>70</th>\n",
       "      <td>native_country_ Greece</td>\n",
       "      <td>0.000000</td>\n",
       "      <td>0.000000</td>\n",
       "      <td>10</td>\n",
       "    </tr>\n",
       "  </tbody>\n",
       "</table>\n",
       "</div>"
      ],
      "text/plain": [
       "                               features     coeff  coeff_abs  coeff_rank\n",
       "103                                 age  9.274511   9.274511           1\n",
       "102                         income_>50K -8.397905   8.397905           2\n",
       "106                        capital_gain -0.013621   0.013621           3\n",
       "104                              fnlwgt -0.008366   0.008366           4\n",
       "108                      hours_per_week  0.000354   0.000354           5\n",
       "107                        capital_loss  0.000104   0.000104           6\n",
       "105                       education_num -0.000002   0.000002           7\n",
       "73   native_country_ Holand_Netherlands  0.000000   0.000000           8\n",
       "69              native_country_ Germany  0.000000   0.000000           9\n",
       "70               native_country_ Greece  0.000000   0.000000          10"
      ]
     },
     "execution_count": 12,
     "metadata": {},
     "output_type": "execute_result"
    }
   ],
   "source": [
    "lr = linear_model.LogisticRegression(penalty = 'l1', C=0.5)\n",
    "lm_reg_coeff = var_selection.abs_reg_coeffs(lr)\n",
    "lm_reg_coeff"
   ]
  },
  {
   "cell_type": "markdown",
   "metadata": {},
   "source": [
    "### Recurrsive Feature Elimination"
   ]
  },
  {
   "cell_type": "code",
   "execution_count": 13,
   "metadata": {},
   "outputs": [
    {
     "name": "stdout",
     "output_type": "stream",
     "text": [
      "Optimal number of features : 8\n"
     ]
    },
    {
     "data": {
      "image/png": "[encoded data removed]",
      "text/plain": [
       "<Figure size 432x288 with 1 Axes>"
      ]
     },
     "metadata": {},
     "output_type": "display_data"
    },
    {
     "name": "stdout",
     "output_type": "stream",
     "text": [
      "Run time: variable_selection.VarSelection.variable_selection.rfe ran in 4.88 sec\n"
     ]
    }
   ],
   "source": [
    "clf = LassoCV(max_iter=2000, tol = 0.1)\n",
    "rfe_selection = var_selection.rfe(clf, \n",
    "                                  2, \n",
    "                                  'roc_auc', \n",
    "                                  ['age','marital_status', 'capital_gain','capital_loss', 'hours_per_week'])"
   ]
  },
  {
   "cell_type": "code",
   "execution_count": 14,
   "metadata": {},
   "outputs": [
    {
     "data": {
      "text/plain": [
       "Index(['marital_status_ Married_spouse_absent',\n",
       "       'marital_status_ Never_married', 'marital_status_ Separated',\n",
       "       'marital_status_ Widowed', 'age', 'capital_gain', 'capital_loss',\n",
       "       'hours_per_week'],\n",
       "      dtype='object')"
      ]
     },
     "execution_count": 14,
     "metadata": {},
     "output_type": "execute_result"
    }
   ],
   "source": [
    "rfe_selection"
   ]
  },
  {
   "cell_type": "markdown",
   "metadata": {},
   "source": [
    "### Feature Agglomeration"
   ]
  },
  {
   "cell_type": "code",
   "execution_count": 15,
   "metadata": {},
   "outputs": [
    {
     "name": "stderr",
     "output_type": "stream",
     "text": [
      "C:\\Users\\downey richard\\AppData\\Local\\Continuum\\anaconda3\\lib\\site-packages\\sklearn\\utils\\validation.py:475: DataConversionWarning: Data with input dtype int64 was converted to float64 by StandardScaler.\n",
      "  warnings.warn(msg, DataConversionWarning)\n"
     ]
    },
    {
     "name": "stdout",
     "output_type": "stream",
     "text": [
      "Run time: variable_selection.VarSelection.variable_selection.feat_agglom ran in 0.63 sec\n"
     ]
    },
    {
     "data": {
      "text/html": [
       "<div>\n",
       "<style scoped>\n",
       "    .dataframe tbody tr th:only-of-type {\n",
       "        vertical-align: middle;\n",
       "    }\n",
       "\n",
       "    .dataframe tbody tr th {\n",
       "        vertical-align: top;\n",
       "    }\n",
       "\n",
       "    .dataframe thead th {\n",
       "        text-align: right;\n",
       "    }\n",
       "</style>\n",
       "<table border=\"1\" class=\"dataframe\">\n",
       "  <thead>\n",
       "    <tr style=\"text-align: right;\">\n",
       "      <th></th>\n",
       "      <th>Feature_Label</th>\n",
       "      <th>Cluster_Number</th>\n",
       "    </tr>\n",
       "  </thead>\n",
       "  <tbody>\n",
       "    <tr>\n",
       "      <th>79</th>\n",
       "      <td>native_country_ Iran</td>\n",
       "      <td>0</td>\n",
       "    </tr>\n",
       "    <tr>\n",
       "      <th>28</th>\n",
       "      <td>marital_status_ Married_spouse_absent</td>\n",
       "      <td>0</td>\n",
       "    </tr>\n",
       "    <tr>\n",
       "      <th>74</th>\n",
       "      <td>native_country_ Holand_Netherlands</td>\n",
       "      <td>0</td>\n",
       "    </tr>\n",
       "    <tr>\n",
       "      <th>26</th>\n",
       "      <td>marital_status_ Married_AF_spouse</td>\n",
       "      <td>0</td>\n",
       "    </tr>\n",
       "    <tr>\n",
       "      <th>108</th>\n",
       "      <td>capital_loss</td>\n",
       "      <td>0</td>\n",
       "    </tr>\n",
       "    <tr>\n",
       "      <th>88</th>\n",
       "      <td>native_country_ Peru</td>\n",
       "      <td>0</td>\n",
       "    </tr>\n",
       "    <tr>\n",
       "      <th>80</th>\n",
       "      <td>native_country_ Ireland</td>\n",
       "      <td>0</td>\n",
       "    </tr>\n",
       "    <tr>\n",
       "      <th>87</th>\n",
       "      <td>native_country_ Outlying_US(Guam_USVI_etc)</td>\n",
       "      <td>0</td>\n",
       "    </tr>\n",
       "    <tr>\n",
       "      <th>61</th>\n",
       "      <td>native_country_ Canada</td>\n",
       "      <td>0</td>\n",
       "    </tr>\n",
       "    <tr>\n",
       "      <th>63</th>\n",
       "      <td>native_country_ Columbia</td>\n",
       "      <td>0</td>\n",
       "    </tr>\n",
       "    <tr>\n",
       "      <th>93</th>\n",
       "      <td>native_country_ Scotland</td>\n",
       "      <td>0</td>\n",
       "    </tr>\n",
       "    <tr>\n",
       "      <th>71</th>\n",
       "      <td>native_country_ Greece</td>\n",
       "      <td>0</td>\n",
       "    </tr>\n",
       "    <tr>\n",
       "      <th>16</th>\n",
       "      <td>education_ Assoc_acdm</td>\n",
       "      <td>0</td>\n",
       "    </tr>\n",
       "    <tr>\n",
       "      <th>90</th>\n",
       "      <td>native_country_ Poland</td>\n",
       "      <td>0</td>\n",
       "    </tr>\n",
       "    <tr>\n",
       "      <th>75</th>\n",
       "      <td>native_country_ Honduras</td>\n",
       "      <td>0</td>\n",
       "    </tr>\n",
       "    <tr>\n",
       "      <th>96</th>\n",
       "      <td>native_country_ Thailand</td>\n",
       "      <td>0</td>\n",
       "    </tr>\n",
       "    <tr>\n",
       "      <th>68</th>\n",
       "      <td>native_country_ England</td>\n",
       "      <td>0</td>\n",
       "    </tr>\n",
       "    <tr>\n",
       "      <th>11</th>\n",
       "      <td>education_ 12th</td>\n",
       "      <td>0</td>\n",
       "    </tr>\n",
       "    <tr>\n",
       "      <th>77</th>\n",
       "      <td>native_country_ Hungary</td>\n",
       "      <td>0</td>\n",
       "    </tr>\n",
       "    <tr>\n",
       "      <th>8</th>\n",
       "      <td>workclass_ Without_pay</td>\n",
       "      <td>0</td>\n",
       "    </tr>\n",
       "    <tr>\n",
       "      <th>98</th>\n",
       "      <td>native_country_ UNKNOWN</td>\n",
       "      <td>0</td>\n",
       "    </tr>\n",
       "    <tr>\n",
       "      <th>48</th>\n",
       "      <td>relationship_ Not_in_family</td>\n",
       "      <td>0</td>\n",
       "    </tr>\n",
       "    <tr>\n",
       "      <th>101</th>\n",
       "      <td>native_country_ Yugoslavia</td>\n",
       "      <td>0</td>\n",
       "    </tr>\n",
       "    <tr>\n",
       "      <th>69</th>\n",
       "      <td>native_country_ France</td>\n",
       "      <td>0</td>\n",
       "    </tr>\n",
       "    <tr>\n",
       "      <th>81</th>\n",
       "      <td>native_country_ Italy</td>\n",
       "      <td>0</td>\n",
       "    </tr>\n",
       "    <tr>\n",
       "      <th>70</th>\n",
       "      <td>native_country_ Germany</td>\n",
       "      <td>0</td>\n",
       "    </tr>\n",
       "    <tr>\n",
       "      <th>83</th>\n",
       "      <td>native_country_ Japan</td>\n",
       "      <td>0</td>\n",
       "    </tr>\n",
       "    <tr>\n",
       "      <th>86</th>\n",
       "      <td>native_country_ Nicaragua</td>\n",
       "      <td>1</td>\n",
       "    </tr>\n",
       "    <tr>\n",
       "      <th>39</th>\n",
       "      <td>occupation_ Other_service</td>\n",
       "      <td>1</td>\n",
       "    </tr>\n",
       "    <tr>\n",
       "      <th>49</th>\n",
       "      <td>relationship_ Other_relative</td>\n",
       "      <td>1</td>\n",
       "    </tr>\n",
       "    <tr>\n",
       "      <th>...</th>\n",
       "      <td>...</td>\n",
       "      <td>...</td>\n",
       "    </tr>\n",
       "    <tr>\n",
       "      <th>4</th>\n",
       "      <td>workclass_ Self_emp_inc</td>\n",
       "      <td>12</td>\n",
       "    </tr>\n",
       "    <tr>\n",
       "      <th>35</th>\n",
       "      <td>occupation_ Exec_managerial</td>\n",
       "      <td>12</td>\n",
       "    </tr>\n",
       "    <tr>\n",
       "      <th>104</th>\n",
       "      <td>age</td>\n",
       "      <td>13</td>\n",
       "    </tr>\n",
       "    <tr>\n",
       "      <th>31</th>\n",
       "      <td>marital_status_ Widowed</td>\n",
       "      <td>13</td>\n",
       "    </tr>\n",
       "    <tr>\n",
       "      <th>32</th>\n",
       "      <td>occupation_ Adm_clerical</td>\n",
       "      <td>14</td>\n",
       "    </tr>\n",
       "    <tr>\n",
       "      <th>58</th>\n",
       "      <td>sex_ Female</td>\n",
       "      <td>14</td>\n",
       "    </tr>\n",
       "    <tr>\n",
       "      <th>52</th>\n",
       "      <td>relationship_ Wife</td>\n",
       "      <td>14</td>\n",
       "    </tr>\n",
       "    <tr>\n",
       "      <th>27</th>\n",
       "      <td>marital_status_ Married_civ_spouse</td>\n",
       "      <td>15</td>\n",
       "    </tr>\n",
       "    <tr>\n",
       "      <th>47</th>\n",
       "      <td>relationship_ Husband</td>\n",
       "      <td>15</td>\n",
       "    </tr>\n",
       "    <tr>\n",
       "      <th>59</th>\n",
       "      <td>sex_ Male</td>\n",
       "      <td>15</td>\n",
       "    </tr>\n",
       "    <tr>\n",
       "      <th>51</th>\n",
       "      <td>relationship_ Unmarried</td>\n",
       "      <td>16</td>\n",
       "    </tr>\n",
       "    <tr>\n",
       "      <th>25</th>\n",
       "      <td>marital_status_ Divorced</td>\n",
       "      <td>16</td>\n",
       "    </tr>\n",
       "    <tr>\n",
       "      <th>5</th>\n",
       "      <td>workclass_ Self_emp_not_inc</td>\n",
       "      <td>17</td>\n",
       "    </tr>\n",
       "    <tr>\n",
       "      <th>36</th>\n",
       "      <td>occupation_ Farming_fishing</td>\n",
       "      <td>17</td>\n",
       "    </tr>\n",
       "    <tr>\n",
       "      <th>95</th>\n",
       "      <td>native_country_ Taiwan</td>\n",
       "      <td>18</td>\n",
       "    </tr>\n",
       "    <tr>\n",
       "      <th>6</th>\n",
       "      <td>workclass_ State_gov</td>\n",
       "      <td>18</td>\n",
       "    </tr>\n",
       "    <tr>\n",
       "      <th>19</th>\n",
       "      <td>education_ Doctorate</td>\n",
       "      <td>18</td>\n",
       "    </tr>\n",
       "    <tr>\n",
       "      <th>13</th>\n",
       "      <td>education_ 5th_6th</td>\n",
       "      <td>19</td>\n",
       "    </tr>\n",
       "    <tr>\n",
       "      <th>85</th>\n",
       "      <td>native_country_ Mexico</td>\n",
       "      <td>19</td>\n",
       "    </tr>\n",
       "    <tr>\n",
       "      <th>29</th>\n",
       "      <td>marital_status_ Never_married</td>\n",
       "      <td>20</td>\n",
       "    </tr>\n",
       "    <tr>\n",
       "      <th>50</th>\n",
       "      <td>relationship_ Own_child</td>\n",
       "      <td>20</td>\n",
       "    </tr>\n",
       "    <tr>\n",
       "      <th>102</th>\n",
       "      <td>income_&lt;=50K</td>\n",
       "      <td>20</td>\n",
       "    </tr>\n",
       "    <tr>\n",
       "      <th>42</th>\n",
       "      <td>occupation_ Protective_serv</td>\n",
       "      <td>21</td>\n",
       "    </tr>\n",
       "    <tr>\n",
       "      <th>1</th>\n",
       "      <td>workclass_ Local_gov</td>\n",
       "      <td>21</td>\n",
       "    </tr>\n",
       "    <tr>\n",
       "      <th>99</th>\n",
       "      <td>native_country_ United_States</td>\n",
       "      <td>22</td>\n",
       "    </tr>\n",
       "    <tr>\n",
       "      <th>57</th>\n",
       "      <td>race_ White</td>\n",
       "      <td>22</td>\n",
       "    </tr>\n",
       "    <tr>\n",
       "      <th>46</th>\n",
       "      <td>occupation_ UNKNOWN</td>\n",
       "      <td>23</td>\n",
       "    </tr>\n",
       "    <tr>\n",
       "      <th>7</th>\n",
       "      <td>workclass_ UNKNOWN</td>\n",
       "      <td>23</td>\n",
       "    </tr>\n",
       "    <tr>\n",
       "      <th>38</th>\n",
       "      <td>occupation_ Machine_op_inspct</td>\n",
       "      <td>24</td>\n",
       "    </tr>\n",
       "    <tr>\n",
       "      <th>3</th>\n",
       "      <td>workclass_ Private</td>\n",
       "      <td>24</td>\n",
       "    </tr>\n",
       "  </tbody>\n",
       "</table>\n",
       "<p>110 rows × 2 columns</p>\n",
       "</div>"
      ],
      "text/plain": [
       "                                  Feature_Label  Cluster_Number\n",
       "79                         native_country_ Iran               0\n",
       "28        marital_status_ Married_spouse_absent               0\n",
       "74           native_country_ Holand_Netherlands               0\n",
       "26            marital_status_ Married_AF_spouse               0\n",
       "108                                capital_loss               0\n",
       "88                         native_country_ Peru               0\n",
       "80                      native_country_ Ireland               0\n",
       "87   native_country_ Outlying_US(Guam_USVI_etc)               0\n",
       "61                       native_country_ Canada               0\n",
       "63                     native_country_ Columbia               0\n",
       "93                     native_country_ Scotland               0\n",
       "71                       native_country_ Greece               0\n",
       "16                        education_ Assoc_acdm               0\n",
       "90                       native_country_ Poland               0\n",
       "75                     native_country_ Honduras               0\n",
       "96                     native_country_ Thailand               0\n",
       "68                      native_country_ England               0\n",
       "11                              education_ 12th               0\n",
       "77                      native_country_ Hungary               0\n",
       "8                        workclass_ Without_pay               0\n",
       "98                      native_country_ UNKNOWN               0\n",
       "48                  relationship_ Not_in_family               0\n",
       "101                  native_country_ Yugoslavia               0\n",
       "69                       native_country_ France               0\n",
       "81                        native_country_ Italy               0\n",
       "70                      native_country_ Germany               0\n",
       "83                        native_country_ Japan               0\n",
       "86                    native_country_ Nicaragua               1\n",
       "39                    occupation_ Other_service               1\n",
       "49                 relationship_ Other_relative               1\n",
       "..                                          ...             ...\n",
       "4                       workclass_ Self_emp_inc              12\n",
       "35                  occupation_ Exec_managerial              12\n",
       "104                                         age              13\n",
       "31                      marital_status_ Widowed              13\n",
       "32                     occupation_ Adm_clerical              14\n",
       "58                                  sex_ Female              14\n",
       "52                           relationship_ Wife              14\n",
       "27           marital_status_ Married_civ_spouse              15\n",
       "47                        relationship_ Husband              15\n",
       "59                                    sex_ Male              15\n",
       "51                      relationship_ Unmarried              16\n",
       "25                     marital_status_ Divorced              16\n",
       "5                   workclass_ Self_emp_not_inc              17\n",
       "36                  occupation_ Farming_fishing              17\n",
       "95                       native_country_ Taiwan              18\n",
       "6                          workclass_ State_gov              18\n",
       "19                         education_ Doctorate              18\n",
       "13                           education_ 5th_6th              19\n",
       "85                       native_country_ Mexico              19\n",
       "29                marital_status_ Never_married              20\n",
       "50                      relationship_ Own_child              20\n",
       "102                                income_<=50K              20\n",
       "42                  occupation_ Protective_serv              21\n",
       "1                          workclass_ Local_gov              21\n",
       "99                native_country_ United_States              22\n",
       "57                                  race_ White              22\n",
       "46                          occupation_ UNKNOWN              23\n",
       "7                            workclass_ UNKNOWN              23\n",
       "38                occupation_ Machine_op_inspct              24\n",
       "3                            workclass_ Private              24\n",
       "\n",
       "[110 rows x 2 columns]"
      ]
     },
     "execution_count": 15,
     "metadata": {},
     "output_type": "execute_result"
    }
   ],
   "source": [
    "var_clusters = var_selection.feat_agglom(25, True)\n",
    "var_clusters"
   ]
  },
  {
   "cell_type": "markdown",
   "metadata": {},
   "source": [
    "### Best Subsets"
   ]
  },
  {
   "cell_type": "code",
   "execution_count": 16,
   "metadata": {},
   "outputs": [
    {
     "data": {
      "image/png": "[encoded data removed]",
      "text/plain": [
       "<Figure size 432x288 with 1 Axes>"
      ]
     },
     "metadata": {},
     "output_type": "display_data"
    },
    {
     "name": "stdout",
     "output_type": "stream",
     "text": [
      "Run time: variable_selection.VarSelection.variable_selection.best_subsets ran in 6.51 sec\n"
     ]
    }
   ],
   "source": [
    "lr = linear_model.LogisticRegression(penalty = 'l1', C=0.5)\n",
    "best_features = var_selection.best_subsets(lr,\n",
    "                                            5, \n",
    "                                          ['age','marital_status', 'capital_gain','capital_loss', 'hours_per_week'])"
   ]
  },
  {
   "cell_type": "code",
   "execution_count": 17,
   "metadata": {},
   "outputs": [
    {
     "data": {
      "text/plain": [
       "Index(['marital_status_ Divorced', 'marital_status_ Married_civ_spouse',\n",
       "       'marital_status_ Married_spouse_absent',\n",
       "       'marital_status_ Never_married', 'marital_status_ Separated',\n",
       "       'marital_status_ Widowed', 'capital_gain', 'capital_loss',\n",
       "       'hours_per_week'],\n",
       "      dtype='object')"
      ]
     },
     "execution_count": 17,
     "metadata": {},
     "output_type": "execute_result"
    }
   ],
   "source": [
    "best_features"
   ]
  },
  {
   "cell_type": "markdown",
   "metadata": {},
   "source": [
    "### Unit tests"
   ]
  },
  {
   "cell_type": "code",
   "execution_count": 18,
   "metadata": {},
   "outputs": [
    {
     "name": "stderr",
     "output_type": "stream",
     "text": [
      "."
     ]
    },
    {
     "name": "stdout",
     "output_type": "stream",
     "text": [
      "Run time: variable_selection.VarSelection.variable_selection.squared_corr ran in 72 ms\n"
     ]
    },
    {
     "name": "stderr",
     "output_type": "stream",
     "text": [
      "\n",
      "----------------------------------------------------------------------\n",
      "Ran 1 test in 0.076s\n",
      "\n",
      "OK\n"
     ]
    },
    {
     "data": {
      "text/plain": [
       "<unittest.runner.TextTestResult run=1 errors=0 failures=0>"
      ]
     },
     "execution_count": 18,
     "metadata": {},
     "output_type": "execute_result"
    }
   ],
   "source": [
    "# Unit tests to check your solution\n",
    "\n",
    "import unittest\n",
    "\n",
    "class TestVarSelectionClass(unittest.TestCase):\n",
    "    def setUp(self):\n",
    "        self.var_selection = vs.variable_selection(adult_df, 'target', k_features = 10, random_state = 1)\n",
    "        \n",
    "    def test_squared_corr(self): \n",
    "        result = self.var_selection.squared_corr()\n",
    "        self.assertEqual(result.iloc[0,0], 'education_num', 'incorrect feature')\n",
    "        self.assertEqual(np.round(result.iloc[0,1],2), 0.11, 'incorrect correlation')\n",
    "                \n",
    "tests = TestVarSelectionClass()\n",
    "\n",
    "tests_loaded = unittest.TestLoader().loadTestsFromModule(tests)\n",
    "\n",
    "unittest.TextTestRunner().run(tests_loaded)"
   ]
  },
  {
   "cell_type": "code",
   "execution_count": null,
   "metadata": {},
   "outputs": [],
   "source": []
  }
 ],
 "metadata": {
  "kernelspec": {
   "display_name": "Python 3",
   "language": "python",
   "name": "python3"
  },
  "language_info": {
   "codemirror_mode": {
    "name": "ipython",
    "version": 3
   },
   "file_extension": ".py",
   "mimetype": "text/x-python",
   "name": "python",
   "nbconvert_exporter": "python",
   "pygments_lexer": "ipython3",
   "version": "3.6.5"
  }
 },
 "nbformat": 4,
 "nbformat_minor": 2
}
