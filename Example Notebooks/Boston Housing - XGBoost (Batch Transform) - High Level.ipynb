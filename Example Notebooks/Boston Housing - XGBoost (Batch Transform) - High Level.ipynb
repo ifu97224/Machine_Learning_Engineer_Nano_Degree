{
 "cells": [
  {
   "cell_type": "markdown",
   "metadata": {},
   "source": [
    "# Predicting Boston Housing Prices\n",
    "\n",
    "## Using XGBoost in SageMaker (Batch Transform)\n",
    "\n",
    "_Deep Learning Nanodegree Program | Deployment_\n",
    "\n",
    "---\n",
    "\n",
    "As an introduction to using SageMaker's High Level Python API we will look at a relatively simple problem. Namely, we will use the [Boston Housing Dataset](https://www.cs.toronto.edu/~delve/data/boston/bostonDetail.html) to predict the median value of a home in the area of Boston Mass.\n",
    "\n",
    "The documentation for the high level API can be found on the [ReadTheDocs page](http://sagemaker.readthedocs.io/en/latest/)\n",
    "\n",
    "## General Outline\n",
    "\n",
    "Typically, when using a notebook instance with SageMaker, you will proceed through the following steps. Of course, not every step will need to be done with each project. Also, there is quite a lot of room for variation in many of the steps, as you will see throughout these lessons.\n",
    "\n",
    "1. Download or otherwise retrieve the data.\n",
    "2. Process / Prepare the data.\n",
    "3. Upload the processed data to S3.\n",
    "4. Train a chosen model.\n",
    "5. Test the trained model (typically using a batch transform job).\n",
    "6. Deploy the trained model.\n",
    "7. Use the deployed model.\n",
    "\n",
    "In this notebook we will only be covering steps 1 through 5 as we just want to get a feel for using SageMaker. In later notebooks we will talk about deploying a trained model in much more detail."
   ]
  },
  {
   "cell_type": "markdown",
   "metadata": {},
   "source": [
    "## Step 0: Setting up the notebook\n",
    "\n",
    "We begin by setting up all of the necessary bits required to run our notebook. To start that means loading all of the Python modules we will need."
   ]
  },
  {
   "cell_type": "code",
   "execution_count": 1,
   "metadata": {},
   "outputs": [],
   "source": [
    "%matplotlib inline\n",
    "\n",
    "import os\n",
    "\n",
    "import numpy as np\n",
    "import pandas as pd\n",
    "\n",
    "import matplotlib.pyplot as plt\n",
    "\n",
    "from sklearn.datasets import load_boston\n",
    "import sklearn.model_selection"
   ]
  },
  {
   "cell_type": "markdown",
   "metadata": {},
   "source": [
    "In addition to the modules above, we need to import the various bits of SageMaker that we will be using. "
   ]
  },
  {
   "cell_type": "code",
   "execution_count": 2,
   "metadata": {},
   "outputs": [],
   "source": [
    "import sagemaker\n",
    "from sagemaker import get_execution_role\n",
    "from sagemaker.amazon.amazon_estimator import get_image_uri\n",
    "from sagemaker.predictor import csv_serializer\n",
    "\n",
    "# This is an object that represents the SageMaker session that we are currently operating in. This\n",
    "# object contains some useful information that we will need to access later such as our region.\n",
    "session = sagemaker.Session()\n",
    "\n",
    "# This is an object that represents the IAM role that we are currently assigned. When we construct\n",
    "# and launch the training job later we will need to tell it what IAM role it should have. Since our\n",
    "# use case is relatively simple we will simply assign the training job the role we currently have.\n",
    "role = get_execution_role()"
   ]
  },
  {
   "cell_type": "markdown",
   "metadata": {},
   "source": [
    "## Step 1: Downloading the data\n",
    "\n",
    "Fortunately, this dataset can be retrieved using sklearn and so this step is relatively straightforward."
   ]
  },
  {
   "cell_type": "code",
   "execution_count": 3,
   "metadata": {},
   "outputs": [],
   "source": [
    "boston = load_boston()"
   ]
  },
  {
   "cell_type": "markdown",
   "metadata": {},
   "source": [
    "## Step 2: Preparing and splitting the data\n",
    "\n",
    "Given that this is clean tabular data, we don't need to do any processing. However, we do need to split the rows in the dataset up into train, test and validation sets."
   ]
  },
  {
   "cell_type": "code",
   "execution_count": 4,
   "metadata": {},
   "outputs": [],
   "source": [
    "# First we package up the input data and the target variable (the median value) as pandas dataframes. This\n",
    "# will make saving the data to a file a little easier later on.\n",
    "\n",
    "X_bos_pd = pd.DataFrame(boston.data, columns=boston.feature_names)\n",
    "Y_bos_pd = pd.DataFrame(boston.target)\n",
    "\n",
    "# We split the dataset into 2/3 training and 1/3 testing sets.\n",
    "X_train, X_test, Y_train, Y_test = sklearn.model_selection.train_test_split(X_bos_pd, Y_bos_pd, test_size=0.33)\n",
    "\n",
    "# Then we split the training set further into 2/3 training and 1/3 validation sets.\n",
    "X_train, X_val, Y_train, Y_val = sklearn.model_selection.train_test_split(X_train, Y_train, test_size=0.33)"
   ]
  },
  {
   "cell_type": "markdown",
   "metadata": {},
   "source": [
    "## Step 3: Uploading the data files to S3\n",
    "\n",
    "When a training job is constructed using SageMaker, a container is executed which performs the training operation. This container is given access to data that is stored in S3. This means that we need to upload the data we want to use for training to S3. In addition, when we perform a batch transform job, SageMaker expects the input data to be stored on S3. We can use the SageMaker API to do this and hide some of the details.\n",
    "\n",
    "### Save the data locally\n",
    "\n",
    "First we need to create the test, train and validation csv files which we will then upload to S3."
   ]
  },
  {
   "cell_type": "code",
   "execution_count": 5,
   "metadata": {},
   "outputs": [],
   "source": [
    "# This is our local data directory. We need to make sure that it exists.\n",
    "data_dir = '../data/boston'\n",
    "if not os.path.exists(data_dir):\n",
    "    os.makedirs(data_dir)"
   ]
  },
  {
   "cell_type": "code",
   "execution_count": 6,
   "metadata": {},
   "outputs": [],
   "source": [
    "# We use pandas to save our test, train and validation data to csv files. Note that we make sure not to include header\n",
    "# information or an index as this is required by the built in algorithms provided by Amazon. Also, for the train and\n",
    "# validation data, it is assumed that the first entry in each row is the target variable.\n",
    "\n",
    "X_test.to_csv(os.path.join(data_dir, 'test.csv'), header=False, index=False)\n",
    "\n",
    "pd.concat([Y_val, X_val], axis=1).to_csv(os.path.join(data_dir, 'validation.csv'), header=False, index=False)\n",
    "pd.concat([Y_train, X_train], axis=1).to_csv(os.path.join(data_dir, 'train.csv'), header=False, index=False)"
   ]
  },
  {
   "cell_type": "markdown",
   "metadata": {},
   "source": [
    "### Upload to S3\n",
    "\n",
    "Since we are currently running inside of a SageMaker session, we can use the object which represents this session to upload our data to the 'default' S3 bucket. Note that it is good practice to provide a custom prefix (essentially an S3 folder) to make sure that you don't accidentally interfere with data uploaded from some other notebook or project."
   ]
  },
  {
   "cell_type": "code",
   "execution_count": 7,
   "metadata": {},
   "outputs": [],
   "source": [
    "prefix = 'boston-xgboost-HL'\n",
    "\n",
    "test_location = session.upload_data(os.path.join(data_dir, 'test.csv'), key_prefix=prefix)\n",
    "val_location = session.upload_data(os.path.join(data_dir, 'validation.csv'), key_prefix=prefix)\n",
    "train_location = session.upload_data(os.path.join(data_dir, 'train.csv'), key_prefix=prefix)"
   ]
  },
  {
   "cell_type": "markdown",
   "metadata": {},
   "source": [
    "## Step 4: Train the XGBoost model\n",
    "\n",
    "Now that we have the training and validation data uploaded to S3, we can construct our XGBoost model and train it. We will be making use of the high level SageMaker API to do this which will make the resulting code a little easier to read at the cost of some flexibility.\n",
    "\n",
    "To construct an estimator, the object which we wish to train, we need to provide the location of a container which contains the training code. Since we are using a built in algorithm this container is provided by Amazon. However, the full name of the container is a bit lengthy and depends on the region that we are operating in. Fortunately, SageMaker provides a useful utility method called `get_image_uri` that constructs the image name for us.\n",
    "\n",
    "To use the `get_image_uri` method we need to provide it with our current region, which can be obtained from the session object, and the name of the algorithm we wish to use. In this notebook we will be using XGBoost however you could try another algorithm if you wish. The list of built in algorithms can be found in the list of [Common Parameters](https://docs.aws.amazon.com/sagemaker/latest/dg/sagemaker-algo-docker-registry-paths.html)."
   ]
  },
  {
   "cell_type": "code",
   "execution_count": 9,
   "metadata": {},
   "outputs": [],
   "source": [
    "# As stated above, we use this utility method to construct the image name for the training container.\n",
    "container = get_image_uri(session.boto_region_name, 'xgboost', '0.90-1')\n",
    "\n",
    "# Now that we know which container to use, we can construct the estimator object.\n",
    "xgb = sagemaker.estimator.Estimator(container, # The image name of the training container\n",
    "                                    role,      # The IAM role to use (our current role in this case)\n",
    "                                    train_instance_count=1, # The number of instances to use for training\n",
    "                                    train_instance_type='ml.m4.xlarge', # The type of instance to use for training\n",
    "                                    output_path='s3://{}/{}/output'.format(session.default_bucket(), prefix),\n",
    "                                                                        # Where to save the output (the model artifacts)\n",
    "                                    sagemaker_session=session) # The current SageMaker session"
   ]
  },
  {
   "cell_type": "markdown",
   "metadata": {},
   "source": [
    "Before asking SageMaker to begin the training job, we should probably set any model specific hyperparameters. There are quite a few that can be set when using the XGBoost algorithm, below are just a few of them. If you would like to change the hyperparameters below or modify additional ones you can find additional information on the [XGBoost hyperparameter page](https://docs.aws.amazon.com/sagemaker/latest/dg/xgboost_hyperparameters.html)"
   ]
  },
  {
   "cell_type": "code",
   "execution_count": 10,
   "metadata": {},
   "outputs": [],
   "source": [
    "xgb.set_hyperparameters(max_depth=5,\n",
    "                        eta=0.2,\n",
    "                        gamma=4,\n",
    "                        min_child_weight=6,\n",
    "                        subsample=0.8,\n",
    "                        objective='reg:linear',\n",
    "                        early_stopping_rounds=10,\n",
    "                        num_round=200)"
   ]
  },
  {
   "cell_type": "markdown",
   "metadata": {},
   "source": [
    "Now that we have our estimator object completely set up, it is time to train it. To do this we make sure that SageMaker knows our input data is in csv format and then execute the `fit` method."
   ]
  },
  {
   "cell_type": "code",
   "execution_count": 11,
   "metadata": {},
   "outputs": [
    {
     "name": "stdout",
     "output_type": "stream",
     "text": [
      "2019-09-22 21:09:10 Starting - Starting the training job...\n",
      "2019-09-22 21:09:12 Starting - Launching requested ML instances...\n",
      "2019-09-22 21:10:07 Starting - Preparing the instances for training......\n",
      "2019-09-22 21:10:51 Downloading - Downloading input data...\n",
      "2019-09-22 21:11:40 Training - Training image download completed. Training in progress.\n",
      "2019-09-22 21:11:40 Uploading - Uploading generated training model\n",
      "2019-09-22 21:11:40 Completed - Training job completed\n",
      "\u001b[31m2019-09-22 21:11:31,210 sagemaker-containers INFO     Imported framework sagemaker_xgboost_container.training\u001b[0m\n",
      "\u001b[31m2019-09-22 21:11:31,211 sagemaker-containers INFO     Failed to parse hyperparameter objective value reg:linear to Json.\u001b[0m\n",
      "\u001b[31mReturning the value itself\u001b[0m\n",
      "\u001b[31m2019-09-22 21:11:31,215 sagemaker-containers INFO     No GPUs detected (normal if no gpus installed)\u001b[0m\n",
      "\u001b[31m2019-09-22 21:11:31,230 sagemaker_xgboost_container.training INFO     Running XGBoost Sagemaker in algorithm mode\u001b[0m\n",
      "\u001b[31m2019-09-22 21:11:31,233 root         INFO     Determined delimiter of CSV input is ','\u001b[0m\n",
      "\u001b[31m2019-09-22 21:11:31,233 root         ERROR    20.6,0.10659,80.0,1.91,0.0,0.413,5.936,19.5,10.5857,4.0,334.0,22.0,376.04,5.57\n",
      " does not follow LIBSVM label format <label>(:<weight>).\u001b[0m\n",
      "\u001b[31m2019-09-22 21:11:31,234 root         INFO     Determined delimiter of CSV input is ','\u001b[0m\n",
      "\u001b[31m2019-09-22 21:11:31,234 root         ERROR    20.4,0.62976,0.0,8.14,0.0,0.538,5.949,61.8,4.7075,4.0,307.0,21.0,396.9,8.26\n",
      " does not follow LIBSVM label format <label>(:<weight>).\u001b[0m\n",
      "\u001b[31m2019-09-22 21:11:31,234 root         INFO     Determined delimiter of CSV input is ','\u001b[0m\n",
      "\u001b[31m[21:11:31] 227x13 matrix with 2951 entries loaded from /opt/ml/input/data/train?format=csv&label_column=0&delimiter=,\u001b[0m\n",
      "\u001b[31m2019-09-22 21:11:31,254 root         INFO     Determined delimiter of CSV input is ','\u001b[0m\n",
      "\u001b[31m[21:11:31] 112x13 matrix with 1456 entries loaded from /opt/ml/input/data/validation?format=csv&label_column=0&delimiter=,\u001b[0m\n",
      "\u001b[31m2019-09-22 21:11:31,267 root         INFO     Single node training.\u001b[0m\n",
      "\u001b[31m2019-09-22 21:11:31,268 root         INFO     Train matrix has 227 rows\u001b[0m\n",
      "\u001b[31m2019-09-22 21:11:31,268 root         INFO     Validation matrix has 112 rows\u001b[0m\n",
      "\u001b[31m2019-09-22 21:11:31,268 root         INFO     {'gamma': 4.0, 'objective': 'reg:linear', 'num_round': 200, 'early_stopping_rounds': 10, 'min_child_weight': 6.0, 'eta': 0.2, 'max_depth': 5, 'subsample': 0.8}\u001b[0m\n",
      "\u001b[31m[21:11:31] WARNING: /workspace/src/objective/regression_obj.cu:152: reg:linear is now deprecated in favor of reg:squarederror.\u001b[0m\n",
      "\u001b[31m[0]#011train-rmse:19.375#011validation-rmse:19.9286\u001b[0m\n",
      "\u001b[31mMultiple eval metrics have been passed: 'validation-rmse' will be used for early stopping.\n",
      "\u001b[0m\n",
      "\u001b[31mWill train until validation-rmse hasn't improved in 10 rounds.\u001b[0m\n",
      "\u001b[31m[1]#011train-rmse:15.7404#011validation-rmse:16.2786\u001b[0m\n",
      "\u001b[31m[2]#011train-rmse:12.9311#011validation-rmse:13.5355\u001b[0m\n",
      "\u001b[31m[3]#011train-rmse:10.6209#011validation-rmse:11.3223\u001b[0m\n",
      "\u001b[31m[4]#011train-rmse:8.75403#011validation-rmse:9.51874\u001b[0m\n",
      "\u001b[31m[5]#011train-rmse:7.26153#011validation-rmse:8.2045\u001b[0m\n",
      "\u001b[31m[6]#011train-rmse:6.11372#011validation-rmse:7.14346\u001b[0m\n",
      "\u001b[31m[7]#011train-rmse:5.15469#011validation-rmse:6.24906\u001b[0m\n",
      "\u001b[31m[8]#011train-rmse:4.42885#011validation-rmse:5.62028\u001b[0m\n",
      "\u001b[31m[9]#011train-rmse:3.87839#011validation-rmse:5.18005\u001b[0m\n",
      "\u001b[31m[10]#011train-rmse:3.44658#011validation-rmse:4.87131\u001b[0m\n",
      "\u001b[31m[11]#011train-rmse:3.03129#011validation-rmse:4.5343\u001b[0m\n",
      "\u001b[31m[12]#011train-rmse:2.71221#011validation-rmse:4.27439\u001b[0m\n",
      "\u001b[31m[13]#011train-rmse:2.49875#011validation-rmse:4.10952\u001b[0m\n",
      "\u001b[31m[14]#011train-rmse:2.28446#011validation-rmse:3.90526\u001b[0m\n",
      "\u001b[31m[15]#011train-rmse:2.16018#011validation-rmse:3.80747\u001b[0m\n",
      "\u001b[31m[16]#011train-rmse:2.02464#011validation-rmse:3.72483\u001b[0m\n",
      "\u001b[31m[17]#011train-rmse:1.92482#011validation-rmse:3.66509\u001b[0m\n",
      "\u001b[31m[18]#011train-rmse:1.82112#011validation-rmse:3.65049\u001b[0m\n",
      "\u001b[31m[19]#011train-rmse:1.74603#011validation-rmse:3.62832\u001b[0m\n",
      "\u001b[31m[20]#011train-rmse:1.67902#011validation-rmse:3.55396\u001b[0m\n",
      "\u001b[31m[21]#011train-rmse:1.61041#011validation-rmse:3.52318\u001b[0m\n",
      "\u001b[31m[22]#011train-rmse:1.54736#011validation-rmse:3.47973\u001b[0m\n",
      "\u001b[31m[23]#011train-rmse:1.51855#011validation-rmse:3.49478\u001b[0m\n",
      "\u001b[31m[24]#011train-rmse:1.49348#011validation-rmse:3.48732\u001b[0m\n",
      "\u001b[31m[25]#011train-rmse:1.44867#011validation-rmse:3.46862\u001b[0m\n",
      "\u001b[31m[26]#011train-rmse:1.42779#011validation-rmse:3.48093\u001b[0m\n",
      "\u001b[31m[27]#011train-rmse:1.40807#011validation-rmse:3.48785\u001b[0m\n",
      "\u001b[31m[28]#011train-rmse:1.37564#011validation-rmse:3.48113\u001b[0m\n",
      "\u001b[31m[29]#011train-rmse:1.36296#011validation-rmse:3.49047\u001b[0m\n",
      "\u001b[31m[30]#011train-rmse:1.33923#011validation-rmse:3.4791\u001b[0m\n",
      "\u001b[31m[31]#011train-rmse:1.30384#011validation-rmse:3.4618\u001b[0m\n",
      "\u001b[31m[32]#011train-rmse:1.27731#011validation-rmse:3.45928\u001b[0m\n",
      "\u001b[31m[33]#011train-rmse:1.241#011validation-rmse:3.44381\u001b[0m\n",
      "\u001b[31m[34]#011train-rmse:1.21842#011validation-rmse:3.44274\u001b[0m\n",
      "\u001b[31m[35]#011train-rmse:1.19531#011validation-rmse:3.43374\u001b[0m\n",
      "\u001b[31m[36]#011train-rmse:1.18253#011validation-rmse:3.41319\u001b[0m\n",
      "\u001b[31m[37]#011train-rmse:1.15668#011validation-rmse:3.40622\u001b[0m\n",
      "\u001b[31m[38]#011train-rmse:1.13909#011validation-rmse:3.42687\u001b[0m\n",
      "\u001b[31m[39]#011train-rmse:1.09894#011validation-rmse:3.41836\u001b[0m\n",
      "\u001b[31m[40]#011train-rmse:1.07281#011validation-rmse:3.4121\u001b[0m\n",
      "\u001b[31m[41]#011train-rmse:1.03707#011validation-rmse:3.41226\u001b[0m\n",
      "\u001b[31m[42]#011train-rmse:1.02756#011validation-rmse:3.39926\u001b[0m\n",
      "\u001b[31m[43]#011train-rmse:1.02095#011validation-rmse:3.40345\u001b[0m\n",
      "\u001b[31m[44]#011train-rmse:1.01401#011validation-rmse:3.40138\u001b[0m\n",
      "\u001b[31m[45]#011train-rmse:0.987453#011validation-rmse:3.40073\u001b[0m\n",
      "\u001b[31m[46]#011train-rmse:0.978252#011validation-rmse:3.39472\u001b[0m\n",
      "\u001b[31m[47]#011train-rmse:0.974448#011validation-rmse:3.39343\u001b[0m\n",
      "\u001b[31m[48]#011train-rmse:0.970941#011validation-rmse:3.39698\u001b[0m\n",
      "\u001b[31m[49]#011train-rmse:0.957701#011validation-rmse:3.39859\u001b[0m\n",
      "\u001b[31m[50]#011train-rmse:0.945412#011validation-rmse:3.4045\u001b[0m\n",
      "\u001b[31m[51]#011train-rmse:0.920118#011validation-rmse:3.40326\u001b[0m\n",
      "\u001b[31m[52]#011train-rmse:0.9162#011validation-rmse:3.40024\u001b[0m\n",
      "\u001b[31m[53]#011train-rmse:0.916293#011validation-rmse:3.39999\u001b[0m\n",
      "\u001b[31m[54]#011train-rmse:0.908465#011validation-rmse:3.39771\u001b[0m\n",
      "\u001b[31m[55]#011train-rmse:0.901996#011validation-rmse:3.3963\u001b[0m\n",
      "\u001b[31m[56]#011train-rmse:0.889499#011validation-rmse:3.39602\u001b[0m\n",
      "\u001b[31m[57]#011train-rmse:0.883931#011validation-rmse:3.38822\u001b[0m\n",
      "\u001b[31m[58]#011train-rmse:0.874945#011validation-rmse:3.38531\u001b[0m\n",
      "\u001b[31m[59]#011train-rmse:0.869665#011validation-rmse:3.37958\u001b[0m\n",
      "\u001b[31m[60]#011train-rmse:0.869623#011validation-rmse:3.37975\u001b[0m\n",
      "\u001b[31m[61]#011train-rmse:0.864298#011validation-rmse:3.37594\u001b[0m\n",
      "\u001b[31m[62]#011train-rmse:0.851493#011validation-rmse:3.36668\u001b[0m\n",
      "\u001b[31m[63]#011train-rmse:0.843119#011validation-rmse:3.37244\u001b[0m\n",
      "\u001b[31m[64]#011train-rmse:0.838522#011validation-rmse:3.37563\u001b[0m\n",
      "\u001b[31m[65]#011train-rmse:0.838519#011validation-rmse:3.37561\u001b[0m\n",
      "\u001b[31m[66]#011train-rmse:0.838569#011validation-rmse:3.37585\u001b[0m\n",
      "\u001b[31m[67]#011train-rmse:0.838558#011validation-rmse:3.37581\u001b[0m\n",
      "\u001b[31m[68]#011train-rmse:0.838577#011validation-rmse:3.37588\u001b[0m\n",
      "\u001b[31m[69]#011train-rmse:0.838509#011validation-rmse:3.37548\u001b[0m\n",
      "\u001b[31m[70]#011train-rmse:0.832065#011validation-rmse:3.37462\u001b[0m\n",
      "\u001b[31m[71]#011train-rmse:0.832034#011validation-rmse:3.37471\u001b[0m\n",
      "\u001b[31m[72]#011train-rmse:0.831981#011validation-rmse:3.37514\u001b[0m\n",
      "\u001b[31mStopping. Best iteration:\u001b[0m\n",
      "\u001b[31m[62]#011train-rmse:0.851493#011validation-rmse:3.36668\n",
      "\u001b[0m\n",
      "Training seconds: 49\n",
      "Billable seconds: 49\n"
     ]
    }
   ],
   "source": [
    "# This is a wrapper around the location of our train and validation data, to make sure that SageMaker\n",
    "# knows our data is in csv format.\n",
    "s3_input_train = sagemaker.s3_input(s3_data=train_location, content_type='csv')\n",
    "s3_input_validation = sagemaker.s3_input(s3_data=val_location, content_type='csv')\n",
    "\n",
    "xgb.fit({'train': s3_input_train, 'validation': s3_input_validation})"
   ]
  },
  {
   "cell_type": "markdown",
   "metadata": {},
   "source": [
    "## Step 5: Test the model\n",
    "\n",
    "Now that we have fit our model to the training data, using the validation data to avoid overfitting, we can test our model. To do this we will make use of SageMaker's Batch Transform functionality. To start with, we need to build a transformer object from our fit model."
   ]
  },
  {
   "cell_type": "code",
   "execution_count": 12,
   "metadata": {},
   "outputs": [],
   "source": [
    "xgb_transformer = xgb.transformer(instance_count = 1, instance_type = 'ml.m4.xlarge')"
   ]
  },
  {
   "cell_type": "markdown",
   "metadata": {},
   "source": [
    "Next we ask SageMaker to begin a batch transform job using our trained model and applying it to the test data we previously stored in S3. We need to make sure to provide SageMaker with the type of data that we are providing to our model, in our case `text/csv`, so that it knows how to serialize our data. In addition, we need to make sure to let SageMaker know how to split our data up into chunks if the entire data set happens to be too large to send to our model all at once.\n",
    "\n",
    "Note that when we ask SageMaker to do this it will execute the batch transform job in the background. Since we need to wait for the results of this job before we can continue, we use the `wait()` method. An added benefit of this is that we get some output from our batch transform job which lets us know if anything went wrong."
   ]
  },
  {
   "cell_type": "code",
   "execution_count": 13,
   "metadata": {},
   "outputs": [],
   "source": [
    "xgb_transformer.transform(test_location, content_type='text/csv', split_type='Line')"
   ]
  },
  {
   "cell_type": "code",
   "execution_count": 14,
   "metadata": {},
   "outputs": [
    {
     "name": "stdout",
     "output_type": "stream",
     "text": [
      "..................\n",
      "\u001b[31m[2019-09-22 21:17:37 +0000] [17] [INFO] Starting gunicorn 19.9.0\u001b[0m\n",
      "\u001b[31m[2019-09-22 21:17:37 +0000] [17] [INFO] Listening at: unix:/tmp/gunicorn.sock (17)\u001b[0m\n",
      "\u001b[31m[2019-09-22 21:17:37 +0000] [17] [INFO] Using worker: gevent\u001b[0m\n",
      "\u001b[31m[2019-09-22 21:17:37 +0000] [24] [INFO] Booting worker with pid: 24\u001b[0m\n",
      "\u001b[31m[2019-09-22 21:17:37 +0000] [25] [INFO] Booting worker with pid: 25\u001b[0m\n",
      "\u001b[31m[2019-09-22 21:17:37 +0000] [29] [INFO] Booting worker with pid: 29\u001b[0m\n",
      "\u001b[31m[2019-09-22 21:17:37 +0000] [30] [INFO] Booting worker with pid: 30\u001b[0m\n",
      "\u001b[31m[2019-09-22:21:17:46:INFO] No GPUs detected (normal if no gpus installed)\u001b[0m\n",
      "\u001b[31m169.254.255.130 - - [22/Sep/2019:21:17:46 +0000] \"GET /ping HTTP/1.1\" 200 0 \"-\" \"Go-http-client/1.1\"\u001b[0m\n",
      "\u001b[31m[2019-09-22:21:17:46:INFO] No GPUs detected (normal if no gpus installed)\u001b[0m\n",
      "\u001b[31m169.254.255.130 - - [22/Sep/2019:21:17:46 +0000] \"GET /execution-parameters HTTP/1.1\" 200 84 \"-\" \"Go-http-client/1.1\"\u001b[0m\n",
      "\u001b[31m[2019-09-22:21:17:46:INFO] Determined delimiter of CSV input is ','\u001b[0m\n",
      "\u001b[31m[21:17:46] WARNING: /workspace/src/objective/regression_obj.cu:152: reg:linear is now deprecated in favor of reg:squarederror.\u001b[0m\n",
      "\u001b[31m169.254.255.130 - - [22/Sep/2019:21:17:46 +0000] \"POST /invocations HTTP/1.1\" 200 3090 \"-\" \"Go-http-client/1.1\"\u001b[0m\n"
     ]
    }
   ],
   "source": [
    "xgb_transformer.wait()"
   ]
  },
  {
   "cell_type": "markdown",
   "metadata": {},
   "source": [
    "Now that the batch transform job has finished, the resulting output is stored on S3. Since we wish to analyze the output inside of our notebook we can use a bit of notebook magic to copy the output file from its S3 location and save it locally."
   ]
  },
  {
   "cell_type": "code",
   "execution_count": 15,
   "metadata": {},
   "outputs": [
    {
     "name": "stdout",
     "output_type": "stream",
     "text": [
      "Completed 3.0 KiB/3.0 KiB (46.3 KiB/s) with 1 file(s) remaining\r",
      "download: s3://sagemaker-us-east-2-800613416076/sagemaker-xgboost-2019-09-22-21-14-52-066/test.csv.out to ../data/boston/test.csv.out\r\n"
     ]
    }
   ],
   "source": [
    "!aws s3 cp --recursive $xgb_transformer.output_path $data_dir"
   ]
  },
  {
   "cell_type": "markdown",
   "metadata": {},
   "source": [
    "To see how well our model works we can create a simple scatter plot between the predicted and actual values. If the model was completely accurate the resulting scatter plot would look like the line $x=y$. As we can see, our model seems to have done okay but there is room for improvement."
   ]
  },
  {
   "cell_type": "code",
   "execution_count": 16,
   "metadata": {},
   "outputs": [],
   "source": [
    "Y_pred = pd.read_csv(os.path.join(data_dir, 'test.csv.out'), header=None)"
   ]
  },
  {
   "cell_type": "code",
   "execution_count": 17,
   "metadata": {},
   "outputs": [
    {
     "data": {
      "text/plain": [
       "Text(0.5, 1.0, 'Median Price vs Predicted Price')"
      ]
     },
     "execution_count": 17,
     "metadata": {},
     "output_type": "execute_result"
    },
    {
     "data": {
      "image/png": "[encoded data removed]",
      "text/plain": [
       "<Figure size 432x288 with 1 Axes>"
      ]
     },
     "metadata": {},
     "output_type": "display_data"
    }
   ],
   "source": [
    "plt.scatter(Y_test, Y_pred)\n",
    "plt.xlabel(\"Median Price\")\n",
    "plt.ylabel(\"Predicted Price\")\n",
    "plt.title(\"Median Price vs Predicted Price\")"
   ]
  },
  {
   "cell_type": "markdown",
   "metadata": {},
   "source": [
    "## Optional: Clean up\n",
    "\n",
    "The default notebook instance on SageMaker doesn't have a lot of excess disk space available. As you continue to complete and execute notebooks you will eventually fill up this disk space, leading to errors which can be difficult to diagnose. Once you are completely finished using a notebook it is a good idea to remove the files that you created along the way. Of course, you can do this from the terminal or from the notebook hub if you would like. The cell below contains some commands to clean up the created files from within the notebook."
   ]
  },
  {
   "cell_type": "code",
   "execution_count": 18,
   "metadata": {},
   "outputs": [],
   "source": [
    "# First we will remove all of the files contained in the data_dir directory\n",
    "!rm $data_dir/*\n",
    "\n",
    "# And then we delete the directory itself\n",
    "!rmdir $data_dir"
   ]
  },
  {
   "cell_type": "code",
   "execution_count": null,
   "metadata": {},
   "outputs": [],
   "source": []
  }
 ],
 "metadata": {
  "kernelspec": {
   "display_name": "conda_pytorch_p36",
   "language": "python",
   "name": "conda_pytorch_p36"
  },
  "language_info": {
   "codemirror_mode": {
    "name": "ipython",
    "version": 3
   },
   "file_extension": ".py",
   "mimetype": "text/x-python",
   "name": "python",
   "nbconvert_exporter": "python",
   "pygments_lexer": "ipython3",
   "version": "3.6.5"
  }
 },
 "nbformat": 4,
 "nbformat_minor": 2
}
